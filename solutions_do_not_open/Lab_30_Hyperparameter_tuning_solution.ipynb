{
 "cells": [
  {
   "cell_type": "markdown",
   "metadata": {},
   "source": [
    "# Hyperparameter Optimization\n",
    "\n",
    "Inspired by https://www.tensorflow.org/tensorboard/r2/hyperparameter_tuning_with_hparams"
   ]
  },
  {
   "cell_type": "code",
   "execution_count": null,
   "metadata": {},
   "outputs": [],
   "source": [
    "import shutil\n",
    "import os\n",
    "log_dir = \"/tmp/tensorboard/hparam_tuning/\"\n",
    "\n",
    "if os.path.exists(log_dir):\n",
    "    shutil.rmtree(log_dir)"
   ]
  },
  {
   "cell_type": "code",
   "execution_count": null,
   "metadata": {},
   "outputs": [],
   "source": [
    "import tensorflow as tf\n",
    "from tensorboard.plugins.hparams import api as hp\n",
    "\n",
    "import numpy as np\n",
    "from scipy.stats.distributions import expon, uniform, randint\n",
    "from sklearn.model_selection import ParameterGrid, ParameterSampler\n",
    "%matplotlib inline\n",
    "import matplotlib.pyplot as plt\n",
    "\n",
    "from tensorflow.keras.datasets import cifar10\n",
    "from tensorflow.keras.models import Sequential\n",
    "from tensorflow.keras.layers import Dense, Dropout, Flatten, Conv2D\n",
    "from tensorflow.keras.optimizers import Adam"
   ]
  },
  {
   "cell_type": "code",
   "execution_count": null,
   "metadata": {},
   "outputs": [],
   "source": [
    "(X_train, y_train),(X_test, y_test) = cifar10.load_data()\n",
    "X_train, X_test = X_train / 255.0, X_test / 255.0"
   ]
  },
  {
   "cell_type": "code",
   "execution_count": null,
   "metadata": {},
   "outputs": [],
   "source": [
    "def train_test_model(hparams):\n",
    "    model = Sequential()\n",
    "    for i in range(hparams['n_conv_layers']):\n",
    "        model.add(Conv2D(hparams['n_conv_filters'], (3,3)))\n",
    "    model.add(Flatten())\n",
    "    model.add(Dense(hparams['n_units'], activation='relu'))\n",
    "    model.add(Dropout(hparams['dropout_rate']))\n",
    "    model.add(Dense(10, activation='softmax'))\n",
    "\n",
    "    model.compile(optimizer=Adam(lr=hparams['learning_rate']),\n",
    "                  loss='sparse_categorical_crossentropy',\n",
    "                  metrics=['accuracy'])\n",
    "    \n",
    "    model.fit(X_train, y_train,\n",
    "              epochs=hparams['epochs'],\n",
    "              batch_size=hparams['batch_size'])\n",
    "    _, accuracy = model.evaluate(X_test, y_test)\n",
    "    return accuracy"
   ]
  },
  {
   "cell_type": "code",
   "execution_count": null,
   "metadata": {},
   "outputs": [],
   "source": [
    "hp_ranges = {\n",
    "    'n_conv_layers': [1],\n",
    "    'n_conv_filters': [16],\n",
    "    'n_units': [16, 32],\n",
    "    'dropout_rate': [0.1, 0.2],\n",
    "    'batch_size': [32],\n",
    "    'learning_rate':[0.001],\n",
    "    'epochs': [1]\n",
    "}"
   ]
  },
  {
   "cell_type": "code",
   "execution_count": null,
   "metadata": {},
   "outputs": [],
   "source": [
    "def run(run_dir, hparams):\n",
    "    with tf.summary.create_file_writer(run_dir).as_default():\n",
    "        hp.hparams(hparams)\n",
    "        accuracy = train_test_model(hparams)\n",
    "        tf.summary.scalar('accuracy', accuracy, step=1)"
   ]
  },
  {
   "cell_type": "markdown",
   "metadata": {},
   "source": [
    "## Grid Search"
   ]
  },
  {
   "cell_type": "code",
   "execution_count": null,
   "metadata": {},
   "outputs": [],
   "source": [
    "for hparams in ParameterGrid(hp_ranges):\n",
    "    print(hparams)"
   ]
  },
  {
   "cell_type": "code",
   "execution_count": null,
   "metadata": {},
   "outputs": [],
   "source": [
    "session_num = 0\n",
    "\n",
    "for hparams in ParameterGrid(hp_ranges):\n",
    "    print('--- Running training session %d' % (session_num + 1))\n",
    "    print(hparams)\n",
    "    run_name = \"run-%d\" % session_num\n",
    "    run(log_dir + run_name, hparams)\n",
    "    session_num += 1"
   ]
  },
  {
   "cell_type": "markdown",
   "metadata": {},
   "source": [
    "Now check Tensorboard\n",
    "\n",
    "![hparams.png](../assets/hparams.png)"
   ]
  },
  {
   "cell_type": "markdown",
   "metadata": {},
   "source": [
    "## Exercise: \n",
    "\n",
    "Implement a Random Search with a much larger set of possibilities using `sklearn.model_selection.ParameterSampler`"
   ]
  },
  {
   "cell_type": "code",
   "execution_count": null,
   "metadata": {},
   "outputs": [],
   "source": [
    "hp_ranges = {\n",
    "    'n_conv_layers': randint(1, 3),\n",
    "    'n_conv_filters': [32, 64, 128],\n",
    "    'n_units': [32, 64, 128, 512],\n",
    "    'dropout_rate': uniform(loc=0.0, scale=0.65),\n",
    "    'batch_size': [16, 64, 256, 2048],\n",
    "    'learning_rate': [0.0003, 0.001, 0.003, 0.01, 0.03, 0.1, 0.3],\n",
    "    'epochs': [2]\n",
    "}"
   ]
  },
  {
   "cell_type": "code",
   "execution_count": null,
   "metadata": {},
   "outputs": [],
   "source": [
    "def print_dict(d):\n",
    "    for k, v in d.items():\n",
    "        print('  {:<20}: {}'.format(k, v))"
   ]
  },
  {
   "cell_type": "code",
   "execution_count": null,
   "metadata": {},
   "outputs": [],
   "source": [
    "hp_sets = ParameterSampler(hp_ranges, n_iter=2, random_state=0)\n",
    "\n",
    "for i, hp_set in enumerate(hp_sets):\n",
    "    print()\n",
    "    print(\"Hyperparameter Set {}:\".format(i))\n",
    "    print_dict(hp_set)"
   ]
  },
  {
   "cell_type": "code",
   "execution_count": null,
   "metadata": {},
   "outputs": [],
   "source": [
    "session_num = 0\n",
    "\n",
    "for hparams in ParameterSampler(hp_ranges, n_iter=30, random_state=0):\n",
    "    print('--- Running training session %d' % (session_num + 1))\n",
    "    print(hparams)\n",
    "    run_name = \"run-%d\" % session_num\n",
    "    run(log_dir + run_name, hparams)\n",
    "    session_num += 1"
   ]
  },
  {
   "cell_type": "code",
   "execution_count": null,
   "metadata": {},
   "outputs": [],
   "source": []
  }
 ],
 "metadata": {
  "kernelspec": {
   "display_name": "Python 3",
   "language": "python",
   "name": "python3"
  },
  "language_info": {
   "codemirror_mode": {
    "name": "ipython",
    "version": 3
   },
   "file_extension": ".py",
   "mimetype": "text/x-python",
   "name": "python",
   "nbconvert_exporter": "python",
   "pygments_lexer": "ipython3",
   "version": "3.7.3"
  }
 },
 "nbformat": 4,
 "nbformat_minor": 2
}
